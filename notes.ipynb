{
 "metadata": {
  "language_info": {
   "codemirror_mode": {
    "name": "ipython",
    "version": 3
   },
   "file_extension": ".py",
   "mimetype": "text/x-python",
   "name": "python",
   "nbconvert_exporter": "python",
   "pygments_lexer": "ipython3",
   "version": 3
  },
  "orig_nbformat": 2
 },
 "nbformat": 4,
 "nbformat_minor": 2,
 "cells": [
  {
   "source": [
    "I was able to copy and paste a .py file from my initial AP 155 course into the directory folder that the repository has. I then committed the change in Git."
   ],
   "cell_type": "markdown",
   "metadata": {}
  },
  {
   "source": [
    "Now I'm adding this Jupyter notebook to see if this gets saved too."
   ],
   "cell_type": "markdown",
   "metadata": {}
  }
 ]
}