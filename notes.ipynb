{
 "metadata": {
  "language_info": {
   "codemirror_mode": {
    "name": "ipython",
    "version": 3
   },
   "file_extension": ".py",
   "mimetype": "text/x-python",
   "name": "python",
   "nbconvert_exporter": "python",
   "pygments_lexer": "ipython3",
   "version": "3.8.5-final"
  },
  "orig_nbformat": 2,
  "kernelspec": {
   "name": "python_defaultSpec_1600285453193",
   "display_name": "Python 3.8.5 32-bit"
  }
 },
 "nbformat": 4,
 "nbformat_minor": 2,
 "cells": [
  {
   "source": [
    "I was able to copy and paste a .py file from my initial AP 155 course into the directory folder that the repository has. I then committed the change in Git."
   ],
   "cell_type": "markdown",
   "metadata": {}
  },
  {
   "source": [
    "Now I'm adding this Jupyter notebook to see if this gets saved too."
   ],
   "cell_type": "markdown",
   "metadata": {}
  },
  {
   "source": [
    "Okay so it worked! This Jupyter notebook showed up but you just gotta make sure to save this thing and see if Git picks up on the changes. As of now we're still not sure how to actively check if the Jupyet notebook is up for changes."
   ],
   "cell_type": "markdown",
   "metadata": {}
  },
  {
   "source": [
    "I found that you can't actually save the notebook from the editor. You can save the notebook itself by the cartridge icon on the toolbar. Let's tryyyy. If you don't hear anymore from me. Oks na yan."
   ],
   "cell_type": "markdown",
   "metadata": {}
  }
 ]
}
